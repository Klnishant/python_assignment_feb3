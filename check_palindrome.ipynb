{
 "cells": [
  {
   "cell_type": "code",
   "execution_count": null,
   "id": "ab3f8954-5c44-4e22-b4ff-53c4b7fc0841",
   "metadata": {},
   "outputs": [],
   "source": [
    "num = int(input(\"Enter the number to check palindrome or not\"))\n",
    "reverse=0\n",
    "\n",
    "while num>0 :\n",
    "    digit = num%10\n",
    "    reverse=(reverse*10)+digit\n",
    "    digit=digit/10\n",
    "    \n",
    "if reverse == num :\n",
    "    print(\"it is pallindrome\")\n",
    "else :\n",
    "    print(\"it is not apallindrome\")"
   ]
  },
  {
   "cell_type": "code",
   "execution_count": null,
   "id": "87920149-1f64-4b12-a0e9-a6bbd5de6d86",
   "metadata": {},
   "outputs": [],
   "source": []
  }
 ],
 "metadata": {
  "kernelspec": {
   "display_name": "Python 3 (ipykernel)",
   "language": "python",
   "name": "python3"
  },
  "language_info": {
   "codemirror_mode": {
    "name": "ipython",
    "version": 3
   },
   "file_extension": ".py",
   "mimetype": "text/x-python",
   "name": "python",
   "nbconvert_exporter": "python",
   "pygments_lexer": "ipython3",
   "version": "3.10.8"
  }
 },
 "nbformat": 4,
 "nbformat_minor": 5
}
